{
 "cells": [
  {
   "cell_type": "markdown",
   "metadata": {},
   "source": [
    "# notebook to update preindustrial HadGEM3 soil dust ancillary to changed land ice mask in BIOME4 data\n",
    "## output: 03_qrparm.soil.dust.from_BIOME4.nc \n",
    "\n",
    "This notebook updates the HadGEM3 ancillary file (e.g. 'qrparm.soil.dust.nc'). This is necessary due to changes in the original PI and BIOME4-derived land ice mask. The following updates are performed:\n",
    "- set soil dust properties to zero in places with new ice\n",
    "- set soil dust properties in places where new ancil does not have ice anymore to zonal mean of ice-free PI conditions \n",
    "\n",
    "The file is intended to validate the BIOME4 <-> PFT lookup table conversion by re-running the kosher CMIP6 preindustrial spin-up with this updated soil and veg frac files.\n",
    "\n",
    "All required files as well as necessary libraries are listed below.\n",
    "\n",
    "In addition, CDO is used for re-gridding and needs to be installed (e.g. 'conda install -c conda-forge cdo').\n"
   ]
  },
  {
   "cell_type": "markdown",
   "metadata": {},
   "source": [
    "# User input"
   ]
  },
  {
   "cell_type": "code",
   "execution_count": 1,
   "metadata": {},
   "outputs": [
    {
     "ename": "SyntaxError",
     "evalue": "EOL while scanning string literal (<ipython-input-1-b4fcc4a0c9f2>, line 6)",
     "output_type": "error",
     "traceback": [
      "\u001b[0;36m  File \u001b[0;32m\"<ipython-input-1-b4fcc4a0c9f2>\"\u001b[0;36m, line \u001b[0;32m6\u001b[0m\n\u001b[0;31m    f_frac_orig    = wrk_dir + \"inputFiles/HadGEM3_PI_orig_ancils/veg.frac.n96e.orca1.v2.2x.kerguelen.1850.nc\u001b[0m\n\u001b[0m                                                                                                             ^\u001b[0m\n\u001b[0;31mSyntaxError\u001b[0m\u001b[0;31m:\u001b[0m EOL while scanning string literal\n"
     ]
    }
   ],
   "source": [
    "wrk_dir        = \"../\"\n",
    "time_slice     = \"preindustrial\"\n",
    "res_model      = \"N96\"\n",
    "\n",
    "f_lsm_mask     = wrk_dir + \"inputFiles/HadGEM3_PI_orig_ancils/qrparm.mask.nc\"\n",
    "f_frac_orig    = wrk_dir + \"inputFiles/HadGEM3_PI_orig_ancils/veg.frac.n96e.orca1.v2.2x.kerguelen.1850.nc\"\n",
    "f_frac_new     = wrk_dir + \"outputFiles/01_qrparm.veg.frac.from_BIOME4.nc\"\n",
    "f_dust_orig    = wrk_dir + \"inputFiles/HadGEM3_PI_orig_ancils/qrparm.soil.dust.nc\""
   ]
  },
  {
   "cell_type": "code",
   "execution_count": null,
   "metadata": {},
   "outputs": [],
   "source": [
    "# load packages\n",
    "import os\n",
    "import subprocess\n",
    "import pandas as pd\n",
    "import numpy as np\n",
    "import numpy.ma as ma\n",
    "import matplotlib.pyplot as plt\n",
    "import matplotlib as mpl\n",
    "from netCDF4 import Dataset\n",
    "from mpl_toolkits.basemap import Basemap\n",
    "from mpl_toolkits.axes_grid1 import make_axes_locatable\n",
    "from geopy.distance import great_circle\n",
    "\n",
    "# set figure resolution\n",
    "mpl.rcParams['figure.dpi']= 300 "
   ]
  },
  {
   "cell_type": "markdown",
   "metadata": {},
   "source": [
    "# step 1: load data and plot land ice differences"
   ]
  },
  {
   "cell_type": "code",
   "execution_count": null,
   "metadata": {
    "scrolled": false
   },
   "outputs": [],
   "source": [
    "# load PFT fractions\n",
    "nc_frac_orig  = Dataset(f_frac_orig, mode='r') \n",
    "nc_frac_new   = Dataset(f_frac_new, mode='r') \n",
    "frac_orig     = nc_frac_orig.variables['field1391'][:,:,:,:]\n",
    "frac_new      = nc_frac_new.variables['field1391'][:,:,:,:]\n",
    "\n",
    "lon           = nc_frac_orig.variables['longitude'][:]\n",
    "lat           = nc_frac_orig.variables['latitude'][:]\n",
    "\n",
    "# identify indices with changed land ice tile\n",
    "diff_ice     = ma.MaskedArray.copy(frac_orig[0,8,:,:])\n",
    "diff_ice     = frac_new[0,8,:,:] - frac_orig[0,8,:,:]\n",
    "idx_more_ice = np.nonzero(diff_ice >  0.99) # idx_more_ice[0] = rows; idx_more_ice[1] = columns\n",
    "idx_less_ice = np.nonzero(diff_ice < -0.99) # idx_less_ice[0] = rows; idx_less_ice[1] = columns     \n",
    "\n",
    "# load original soil parameters (store all 11 variables in one array for easier processing)\n",
    "nc_dust_orig  = Dataset(f_dust_orig, mode='r') \n",
    "\n",
    "dust_orig  = np.zeros((len(nc_dust_orig.variables)-4,len(lat),len(lon)),dtype=np.float32)\n",
    "toexclude = ['longitude', 'latitude', 'surface', 't']\n",
    "varNum = 0\n",
    "for name, variable in nc_dust_orig.variables.items():\n",
    "    if name not in toexclude:\n",
    "        print('loading variable: ' + variable.title + ' as index: ' + str(varNum))\n",
    "        dust_orig[varNum,:,:] = nc_dust_orig.variables[variable.name][0,0,:,:]\n",
    "        varNum += 1\n",
    "\n",
    "dust_orig[dust_orig == 2e20] = np.nan\n",
    "\n",
    "# start with a copy of existing soils    \n",
    "dust_new = dust_orig.copy()"
   ]
  },
  {
   "cell_type": "code",
   "execution_count": null,
   "metadata": {},
   "outputs": [],
   "source": [
    "# plot different ice fractions\n",
    "fig = plt.figure(figsize=(17,4))\n",
    "fig.suptitle(\"comparison of new BIOME4-derived and existing preindustrial land ice\", fontsize=24, y=0.9)\n",
    "fig.tight_layout()\n",
    "\n",
    "plt.subplot(1, 3, 1)\n",
    "m = Basemap(projection='cyl')\n",
    "m.drawparallels(np.arange(-90.,91.,30.), labels=[1,0,0,1], dashes=[1,1], linewidth=0.25, color='0.5')\n",
    "m.drawmeridians(np.arange(0., 360., 60.), labels=[1,0,0,1], dashes=[1,1], linewidth=0.25, color='0.5')\n",
    "fig = m.pcolor(lon, lat, frac_new[0,8,:,:], cmap=\"viridis\", vmin=0, vmax=1, latlon=True)\n",
    "plt.title(\"new from BIOME4\")\n",
    "ax = plt.gca()\n",
    "divider = make_axes_locatable(ax)\n",
    "cax = divider.append_axes(\"right\", size=\"5%\", pad=0.05)\n",
    "plt.colorbar(fig, cax=cax)\n",
    "\n",
    "plt.subplot(1, 3, 2)\n",
    "m = Basemap(projection='cyl')\n",
    "m.drawparallels(np.arange(-90.,91.,30.), labels=[1,0,0,1], dashes=[1,1], linewidth=0.25, color='0.5')\n",
    "m.drawmeridians(np.arange(0., 360., 60.), labels=[1,0,0,1], dashes=[1,1], linewidth=0.25, color='0.5')\n",
    "fig = m.pcolor(lon, lat, frac_orig[0,8,:,:], cmap=\"viridis\", vmin=0, vmax=1, latlon=True)\n",
    "plt.title(\"original\")\n",
    "ax = plt.gca()\n",
    "divider = make_axes_locatable(ax)\n",
    "cax = divider.append_axes(\"right\", size=\"5%\", pad=0.05)\n",
    "plt.colorbar(fig, cax=cax)\n",
    "\n",
    "plt.subplot(1, 3, 3)\n",
    "m = Basemap(projection='cyl')\n",
    "m.drawparallels(np.arange(-90.,91.,30.), labels=[1,0,0,1], dashes=[1,1], linewidth=0.25, color='0.5')\n",
    "m.drawmeridians(np.arange(0., 360., 60.), labels=[1,0,0,1], dashes=[1,1], linewidth=0.25, color='0.5')\n",
    "fig = m.pcolor(lon, lat, diff_ice, cmap=\"PiYG\", vmin=-1, vmax=1, latlon=True)\n",
    "plt.title(\"new minus old\")\n",
    "ax = plt.gca()\n",
    "divider = make_axes_locatable(ax)\n",
    "cax = divider.append_axes(\"right\", size=\"5%\", pad=0.05)\n",
    "plt.colorbar(fig, cax=cax)\n",
    "\n",
    "plt.savefig(wrk_dir + 'plots/03_step_1_PFT_land_ice_changes.png')\n"
   ]
  },
  {
   "cell_type": "markdown",
   "metadata": {},
   "source": [
    "# step 2: Remove soil dust for new ice regions\n",
    "Soil dust paramaters under land ice are set to zero in original PI file. Apply these values to newly covered ice regions 'idx_more_ice'"
   ]
  },
  {
   "cell_type": "code",
   "execution_count": null,
   "metadata": {},
   "outputs": [],
   "source": [
    "dust_new[:,idx_more_ice[0],idx_more_ice[1]] = 0.0\n"
   ]
  },
  {
   "cell_type": "markdown",
   "metadata": {},
   "source": [
    "### step 3: Set soil dust for new ice-free regions\n",
    "Need to set all soil dust parameters for now ice-free regions to values representative of high-latitude ice-free regions. For this, set all new ice-free regions ('idx_less_ice') to zonal mean values of existing PI ice-free soil dust."
   ]
  },
  {
   "cell_type": "code",
   "execution_count": 2,
   "metadata": {},
   "outputs": [
    {
     "ename": "NameError",
     "evalue": "name 'np' is not defined",
     "output_type": "error",
     "traceback": [
      "\u001b[0;31m---------------------------------------------------------------------------\u001b[0m",
      "\u001b[0;31mNameError\u001b[0m                                 Traceback (most recent call last)",
      "\u001b[0;32m<ipython-input-2-2ea7968f0f0d>\u001b[0m in \u001b[0;36m<module>\u001b[0;34m\u001b[0m\n\u001b[0;32m----> 1\u001b[0;31m \u001b[0midx_pi_ice\u001b[0m \u001b[0;34m=\u001b[0m \u001b[0mnp\u001b[0m\u001b[0;34m.\u001b[0m\u001b[0mwhere\u001b[0m\u001b[0;34m(\u001b[0m\u001b[0mfrac_orig\u001b[0m\u001b[0;34m[\u001b[0m\u001b[0;36m0\u001b[0m\u001b[0;34m,\u001b[0m\u001b[0;36m8\u001b[0m\u001b[0;34m,\u001b[0m\u001b[0;34m:\u001b[0m\u001b[0;34m,\u001b[0m\u001b[0;34m:\u001b[0m\u001b[0;34m]\u001b[0m\u001b[0;34m==\u001b[0m\u001b[0;36m1.0\u001b[0m\u001b[0;34m)\u001b[0m\u001b[0;34m\u001b[0m\u001b[0;34m\u001b[0m\u001b[0m\n\u001b[0m\u001b[1;32m      2\u001b[0m \u001b[0;34m\u001b[0m\u001b[0m\n\u001b[1;32m      3\u001b[0m \u001b[0mdust_orig_noIce\u001b[0m \u001b[0;34m=\u001b[0m \u001b[0mdust_orig\u001b[0m\u001b[0;34m.\u001b[0m\u001b[0mcopy\u001b[0m\u001b[0;34m(\u001b[0m\u001b[0;34m)\u001b[0m\u001b[0;34m\u001b[0m\u001b[0;34m\u001b[0m\u001b[0m\n\u001b[1;32m      4\u001b[0m \u001b[0mdust_orig_noIce\u001b[0m\u001b[0;34m[\u001b[0m\u001b[0;34m:\u001b[0m\u001b[0;34m,\u001b[0m\u001b[0midx_pi_ice\u001b[0m\u001b[0;34m[\u001b[0m\u001b[0;36m0\u001b[0m\u001b[0;34m]\u001b[0m\u001b[0;34m,\u001b[0m\u001b[0midx_pi_ice\u001b[0m\u001b[0;34m[\u001b[0m\u001b[0;36m1\u001b[0m\u001b[0;34m]\u001b[0m\u001b[0;34m]\u001b[0m \u001b[0;34m=\u001b[0m \u001b[0mnp\u001b[0m\u001b[0;34m.\u001b[0m\u001b[0mnan\u001b[0m\u001b[0;34m\u001b[0m\u001b[0;34m\u001b[0m\u001b[0m\n\u001b[1;32m      5\u001b[0m \u001b[0mdust_orig_noIce\u001b[0m\u001b[0;34m[\u001b[0m\u001b[0mdust_orig_noIce\u001b[0m \u001b[0;34m==\u001b[0m \u001b[0;36m2e20\u001b[0m\u001b[0;34m]\u001b[0m \u001b[0;34m=\u001b[0m \u001b[0mnp\u001b[0m\u001b[0;34m.\u001b[0m\u001b[0mnan\u001b[0m\u001b[0;34m\u001b[0m\u001b[0;34m\u001b[0m\u001b[0m\n",
      "\u001b[0;31mNameError\u001b[0m: name 'np' is not defined"
     ]
    }
   ],
   "source": [
    "idx_pi_ice = np.where(frac_orig[0,8,:,:]==1.0)\n",
    "\n",
    "dust_orig_noIce = dust_orig.copy()\n",
    "dust_orig_noIce[:,idx_pi_ice[0],idx_pi_ice[1]] = np.nan\n",
    "dust_orig_noIce[dust_orig_noIce == 2e20] = np.nan\n",
    "\n",
    "for nn in range(0,9):\n",
    "    dust_zm = np.nanmean(dust_orig_noIce[nn,:,:],axis=1)\n",
    "    dust_new[nn,idx_less_ice[0],idx_less_ice[1]] = dust_zm[idx_less_ice[0]]\n",
    "    \n",
    "# The nanmean function returns 'mean of emplty slice for' latitudes with all NaN values (e.g. Southern Ocean).\n",
    "# These warnings can be ignored"
   ]
  },
  {
   "cell_type": "code",
   "execution_count": null,
   "metadata": {},
   "outputs": [],
   "source": [
    "# check that dust parent soil fractions sum up to 1 everywhere (clay+silt+sand)\n",
    "frac_sum_orig = dust_orig[0,:,:] + dust_orig[1,:,:] + dust_orig[2,:,:]\n",
    "frac_sum_new = dust_new[0,:,:] + dust_new[1,:,:] + dust_new[2,:,:]\n",
    "\n",
    "fig = plt.figure(figsize=(17,4))\n",
    "fig.tight_layout()\n",
    "fig.suptitle(\"clay+silt+sand fraction should sum to 1 for ice-free regions\", fontsize=24, y=0.96)\n",
    "\n",
    "plt.subplot(1, 2, 1)\n",
    "m = Basemap(projection='cyl')\n",
    "m.drawparallels(np.arange(-90.,91.,30.), labels=[1,0,0,1], dashes=[1,1], linewidth=0.25, color='0.5')\n",
    "m.drawmeridians(np.arange(0., 360., 60.), labels=[1,0,0,1], dashes=[1,1], linewidth=0.25, color='0.5')\n",
    "fig = m.pcolor(lon, lat, frac_sum_orig, cmap=\"viridis\", vmin=0, vmax=1.1, latlon=True)\n",
    "ax = plt.gca()\n",
    "divider = make_axes_locatable(ax)\n",
    "cax = divider.append_axes(\"right\", size=\"5%\", pad=0.05)\n",
    "plt.colorbar(fig, cax=cax)\n",
    "\n",
    "plt.subplot(1, 2, 2)\n",
    "m = Basemap(projection='cyl')\n",
    "m.drawparallels(np.arange(-90.,91.,30.), labels=[1,0,0,1], dashes=[1,1], linewidth=0.25, color='0.5')\n",
    "m.drawmeridians(np.arange(0., 360., 60.), labels=[1,0,0,1], dashes=[1,1], linewidth=0.25, color='0.5')\n",
    "fig = m.pcolor(lon, lat, frac_sum_new, cmap=\"viridis\", vmin=0, vmax=1.1, latlon=True)\n",
    "ax = plt.gca()\n",
    "divider = make_axes_locatable(ax)\n",
    "cax = divider.append_axes(\"right\", size=\"5%\", pad=0.05)\n",
    "plt.colorbar(fig, cax=cax)\n",
    "\n",
    "plt.savefig(wrk_dir + 'plots/03_step_3_clay_silt_sand_sum.png')\n",
    "\n",
    "print(np.nanmax(frac_sum_orig))\n",
    "print(np.nanmax(frac_sum_new))"
   ]
  },
  {
   "cell_type": "code",
   "execution_count": null,
   "metadata": {
    "scrolled": false
   },
   "outputs": [],
   "source": [
    "# plot input/output comparison\n",
    "diff_dust = dust_new - dust_orig\n",
    "\n",
    "fig = plt.figure(figsize=(17,30))\n",
    "fig.suptitle(\"comparison new BIOME4-derived results minus existing preindustrial soil dusts\", fontsize=24, y=0.9)\n",
    "fig.tight_layout()\n",
    "varNum = 0\n",
    "for name, variable in nc_dust_orig.variables.items():\n",
    "    if name not in toexclude:\n",
    "\n",
    "        plt.subplot(9, 3, varNum*3+1)\n",
    "        m = Basemap(projection='cyl')\n",
    "        m.drawparallels(np.arange(-90.,91.,30.), labels=[1,0,0,1], dashes=[1,1], linewidth=0.25, color='0.5')\n",
    "        m.drawmeridians(np.arange(0., 360., 60.), labels=[1,0,0,1], dashes=[1,1], linewidth=0.25, color='0.5')\n",
    "        fig = m.pcolor(lon, lat, dust_new[varNum,:,:], cmap=\"viridis\", vmin=0, vmax=np.nanmax(dust_orig[varNum,:,:]), latlon=True)\n",
    "        plt.title(\"new \" + variable.title)\n",
    "        ax = plt.gca()\n",
    "        divider = make_axes_locatable(ax)\n",
    "        cax = divider.append_axes(\"right\", size=\"5%\", pad=0.05)\n",
    "        plt.colorbar(fig, cax=cax)\n",
    "\n",
    "        plt.subplot(9, 3, varNum*3+2)\n",
    "        m = Basemap(projection='cyl')\n",
    "        m.drawparallels(np.arange(-90.,91.,30.), labels=[1,0,0,1], dashes=[1,1], linewidth=0.25, color='0.5')\n",
    "        m.drawmeridians(np.arange(0., 360., 60.), labels=[1,0,0,1], dashes=[1,1], linewidth=0.25, color='0.5')\n",
    "        fig = m.pcolor(lon, lat, dust_orig[varNum,:,:], cmap=\"viridis\", vmin=0, vmax=np.nanmax(dust_orig[varNum,:,:]), latlon=True)\n",
    "        plt.title(\"old \" + variable.title)\n",
    "        ax = plt.gca()\n",
    "        divider = make_axes_locatable(ax)\n",
    "        cax = divider.append_axes(\"right\", size=\"5%\", pad=0.05)\n",
    "        plt.colorbar(fig, cax=cax)\n",
    "\n",
    "        plt.subplot(9, 3, varNum*3+3)\n",
    "        m = Basemap(projection='cyl')\n",
    "        m.drawparallels(np.arange(-90.,91.,30.), labels=[1,0,0,1], dashes=[1,1], linewidth=0.25, color='0.5')\n",
    "        m.drawmeridians(np.arange(0., 360., 60.), labels=[1,0,0,1], dashes=[1,1], linewidth=0.25, color='0.5')\n",
    "        deltaRange = np.maximum(np.absolute(np.nanmin(diff_dust[varNum,:,:])), np.nanmax(diff_dust[varNum,:,:]))\n",
    "        fig = m.pcolor(lon, lat, diff_dust[varNum,:,:], cmap=\"PiYG\", vmin=-1. * deltaRange, vmax=deltaRange, latlon=True)\n",
    "        plt.title(\"diff \" + variable.title)\n",
    "        ax = plt.gca()\n",
    "        divider = make_axes_locatable(ax)\n",
    "        cax = divider.append_axes(\"right\", size=\"5%\", pad=0.05)\n",
    "        plt.colorbar(fig, cax=cax)\n",
    "        \n",
    "        varNum += 1\n",
    "        \n",
    "plt.savefig(wrk_dir + 'plots/03_step_3_modified_soil_dust.png')"
   ]
  },
  {
   "cell_type": "markdown",
   "metadata": {},
   "source": [
    "# step 4: write results to file "
   ]
  },
  {
   "cell_type": "code",
   "execution_count": null,
   "metadata": {},
   "outputs": [],
   "source": [
    "f_nc_out_step4 = wrk_dir + \"outputFiles/03_qrparm.soil.dust.from_BIOME4.nc\"\n",
    "return_cp = subprocess.call(\"cp \" + f_dust_orig + \" \" + f_nc_out_step4 , shell=True) # copy PI dummy file for correct metadata\n",
    "if return_cp == 0 :\n",
    "    print(\"Output file allocated as: \"+f_nc_out_step4)\n",
    "else :\n",
    "    print(\"Copying of step 4 output file FAILED! Exiting script ...\")\n",
    "    exit()\n",
    "\n",
    "# set ocean values to 2.0000e+20, which is what the model expects\n",
    "dust_new = np.nan_to_num(dust_new, nan=2.0000e+20)\n",
    "\n",
    "nc_step4   = Dataset(f_nc_out_step4,mode='r+') \n",
    "\n",
    "varNum = 0\n",
    "for name, variable in nc_step4.variables.items():\n",
    "    if name not in toexclude:\n",
    "        print('writing variable: ' + variable.title + ' as index: ' + str(varNum))\n",
    "        nc_step4.variables[variable.name][0,0,:,:] = dust_new[varNum,:,:]\n",
    "        varNum += 1\n",
    "\n",
    "nc_step4.sync()\n",
    "nc_step4.close()"
   ]
  }
 ],
 "metadata": {
  "kernelspec": {
   "display_name": "Python 3",
   "language": "python",
   "name": "python3"
  },
  "language_info": {
   "codemirror_mode": {
    "name": "ipython",
    "version": 3
   },
   "file_extension": ".py",
   "mimetype": "text/x-python",
   "name": "python",
   "nbconvert_exporter": "python",
   "pygments_lexer": "ipython3",
   "version": "3.7.7"
  }
 },
 "nbformat": 4,
 "nbformat_minor": 2
}
